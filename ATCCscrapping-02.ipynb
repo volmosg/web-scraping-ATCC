{
 "cells": [
  {
   "cell_type": "code",
   "execution_count": 1,
   "metadata": {},
   "outputs": [],
   "source": [
    "import requests\n",
    "from bs4 import BeautifulSoup\n",
    "# base URL from with the web scraping script will crall. It contains animal cell lines alphanumerically sorted\n",
    "url = \"http://www.lgcstandards-atcc.org/Products/Collections/Cell_Biology_Collections/Cell_Lines/Animal/Alphanumeric/\""
   ]
  },
  {
   "cell_type": "code",
   "execution_count": 2,
   "metadata": {},
   "outputs": [],
   "source": [
    "# first level of crawling. Links (\"a\") to specific cell lines are surounded by \"h3\" tags\n",
    "def parse_overview(url):\n",
    "    req = requests.get(url)\n",
    "    page = BeautifulSoup(req.text, \"lxml\")\n",
    "    links = page.select(\"h3 a\")\n",
    "    return [l.get(\"href\") for l in links]"
   ]
  },
  {
   "cell_type": "code",
   "execution_count": 3,
   "metadata": {},
   "outputs": [
    {
     "data": {
      "text/plain": [
       "[None,\n",
       " '/en/Products/Collections/Cell_Biology_Collections/Cell_Lines/Animal/Alphanumeric/CRL-6468.aspx',\n",
       " '/en/Products/Collections/Cell_Biology_Collections/Cell_Lines/Animal/Alphanumeric/CRL-6469.aspx',\n",
       " '/en/Products/Collections/Cell_Biology_Collections/Cell_Lines/Animal/Alphanumeric/CRL-2037.aspx',\n",
       " '/en/Products/Collections/Cell_Biology_Collections/Cell_Lines/Animal/Alphanumeric/CRL-2652.aspx',\n",
       " '/en/Products/Collections/Cell_Biology_Collections/Cell_Lines/Animal/Alphanumeric/CRL-2817.aspx',\n",
       " '/en/Products/Collections/Cell_Biology_Collections/Cell_Lines/Animal/Alphanumeric/CRL-1666.aspx',\n",
       " '/en/Products/Collections/Cell_Biology_Collections/Cell_Lines/Animal/Alphanumeric/CRL-3422.aspx',\n",
       " '/en/Products/Collections/Cell_Biology_Collections/Cell_Lines/Animal/Alphanumeric/CRL-2649.aspx',\n",
       " '/en/Products/Collections/Cell_Biology_Collections/Cell_Lines/Animal/Alphanumeric/CRL-2650.aspx']"
      ]
     },
     "execution_count": 3,
     "metadata": {},
     "output_type": "execute_result"
    }
   ],
   "source": [
    "parse_overview(url)"
   ]
  },
  {
   "cell_type": "code",
   "execution_count": 4,
   "metadata": {},
   "outputs": [],
   "source": [
    "# first entry contains an invalid value, so we can skip it\n",
    "links = parse_overview(url)[1:len(parse_overview(url))]"
   ]
  },
  {
   "cell_type": "code",
   "execution_count": 10,
   "metadata": {},
   "outputs": [],
   "source": [
    "# second level of crawling. Once we have the list of links driving us to each cell line, we scrape their content\n",
    "def parse_cell_line(req):\n",
    "    page = BeautifulSoup(req.text, \"lxml\")\n",
    "    # most of the features are contained in the first table of the page from the class \"fulllist\"\n",
    "    table = page.select(\".fulllist\")[0]\n",
    "    rows = table.select(\"tr\")\n",
    "    cell_line = {}\n",
    "    # ATCC codes in particular are not in this table. Instead, they appear as titles (\"h1\") with the following id\n",
    "    # page.select output is a list, in this case of only one element. The first (and only) element of the list is needed\n",
    "    # to invoke method get_text()\n",
    "    title = page.select(\"h1#layoutcontent_2_middlecontent_0_productdetailcontent_0_maincontent_0_heading\")[0].get_text().strip()\n",
    "    label = \"ATCC code\"\n",
    "    value = title\n",
    "    cell_line[label] = value\n",
    "    for row in rows:\n",
    "        label = row.select(\"th\")[0].get_text().strip()\n",
    "        value = row.select(\"td\")[0].get_text().strip()\n",
    "        cell_line[label] = value\n",
    "    return cell_line"
   ]
  },
  {
   "cell_type": "code",
   "execution_count": 11,
   "metadata": {},
   "outputs": [],
   "source": [
    "# the real scraping in action. The former methods are called, starting from the base URL so all the results are saved into\n",
    "# the list cell_lines\n",
    "def scrape_page(links):\n",
    "    url = \"http://www.lgcstandards-atcc.org/Products/Collections/Cell_Biology_Collections/Cell_Lines/Animal/Alphanumeric/\"\n",
    "    print(f\"Scraping overview page {url}\")\n",
    "    #req = requests.get(url)\n",
    "    #html = req.text\n",
    "    #links = parse_overview(url)[1:parse_overview(url)]\n",
    "    cell_lines = []\n",
    "\n",
    "    for link in links:\n",
    "        print(f\"🖼 Parsing {link}\")\n",
    "        req = requests.get(f\"http://www.lgcstandards-atcc.org/{link}\")\n",
    "        #print(f\"http://www.lgcstandards-atcc.org/{link}\")\n",
    "        html = req.text\n",
    "        cell_line = parse_cell_line(req)\n",
    "        print(cell_line)\n",
    "        cell_lines.append(cell_line)\n",
    "        \n",
    "    return cell_lines\n"
   ]
  },
  {
   "cell_type": "code",
   "execution_count": 12,
   "metadata": {},
   "outputs": [
    {
     "name": "stdout",
     "output_type": "stream",
     "text": [
      "Scraping overview page http://www.lgcstandards-atcc.org/Products/Collections/Cell_Biology_Collections/Cell_Lines/Animal/Alphanumeric/\n",
      "🖼 Parsing /en/Products/Collections/Cell_Biology_Collections/Cell_Lines/Animal/Alphanumeric/CRL-6468.aspx\n",
      "{'ATCC code': '+/+ MGT  (ATCC® CRL-6468™)', 'Organism': 'Mus musculus, mouse', 'Tissue': 'mammary gland', 'Product Format': 'frozen', 'Culture Properties': 'adherent', 'Biosafety Level': '1 \\r\\n\\nBiosafety classification is based on U.S. Public Health Service Guidelines, it is the responsibility of the customer to ensure that their facilities comply with biosafety regulations for their own country.', 'Age': 'adult', 'Gender': 'female', 'Strain': 'HRS/J'}\n",
      "🖼 Parsing /en/Products/Collections/Cell_Biology_Collections/Cell_Lines/Animal/Alphanumeric/CRL-6469.aspx\n",
      "{'ATCC code': '+/+ SCT  (ATCC® CRL-6469™)', 'Organism': 'Mus musculus, mouse', 'Tissue': 'connective and soft tissue', 'Product Format': 'frozen', 'Culture Properties': 'adherent', 'Biosafety Level': '1 \\r\\n\\nBiosafety classification is based on U.S. Public Health Service Guidelines, it is the responsibility of the customer to ensure that their facilities comply with biosafety regulations for their own country.', 'Disease': 'cancer', 'Age': 'newborn', 'Strain': 'HRS/J', 'Applications': 'This cell line is neither produced nor fully characterized by ATCC. We do not guarantee that it will maintain a specific morphology, purity, or any other property upon passage.'}\n",
      "🖼 Parsing /en/Products/Collections/Cell_Biology_Collections/Cell_Lines/Animal/Alphanumeric/CRL-2037.aspx\n",
      "{'ATCC code': '11P0-1  (ATCC® CRL-2037™)', 'Organism': 'Mus musculus, mouse', 'Cell Type': 'mast cell; Abelson murine leukemia virus transformed', 'Product Format': 'frozen', 'Morphology': 'mast cell', 'Culture Properties': 'suspension', 'Biosafety Level': '2 \\r\\n\\nBiosafety classification is based on U.S. Public Health Service Guidelines, it is the responsibility of the customer to ensure that their facilities comply with biosafety regulations for their own country.', 'Age': '11 days gestation', 'Applications': 'The 11P0-1 cell line was established by transformation of placental cells from an 11 day mouse embryo with A-MuLV.', 'Storage Conditions': 'liquid nitrogen vapor phase'}\n",
      "🖼 Parsing /en/Products/Collections/Cell_Biology_Collections/Cell_Lines/Animal/Alphanumeric/CRL-2652.aspx\n",
      "{'ATCC code': '121-19B10  (ATCC® CRL-2652™)', 'Organism': 'Mus musculus (B cell); Mus musculus (myeloma), mouse (B cell); mouse (myeloma)', 'Tissue': 'spleen', 'Cell Type': 'hybridoma:lymphoblast B lymphocyte', 'Product Format': 'frozen', 'Morphology': 'lymphoblast', 'Culture Properties': 'suspension', 'Biosafety Level': '1 \\r\\n\\nBiosafety classification is based on U.S. Public Health Service Guidelines, it is the responsibility of the customer to ensure that their facilities comply with biosafety regulations for their own country.', 'Gender': 'female', 'Strain': '129GIX+', 'Storage Conditions': 'liquid nitrogen vapor phase'}\n",
      "🖼 Parsing /en/Products/Collections/Cell_Biology_Collections/Cell_Lines/Animal/Alphanumeric/CRL-2817.aspx\n",
      "{'ATCC code': '127TAg  (ATCC® CRL-2817™)', 'Organism': 'Mus musculus, mouse', 'Tissue': 'embryo', 'Cell Type': 'fibroblast immortalized with SV40 large T antigenSV40 large T antigen transfected', 'Product Format': 'frozen', 'Morphology': 'fibroblast', 'Culture Properties': 'adherent', 'Biosafety Level': '2 cells containing SV40 viral DNA sequences\\r\\n\\nBiosafety classification is based on U.S. Public Health Service Guidelines, it is the responsibility of the customer to ensure that their facilities comply with biosafety regulations for their own country.', 'Age': '14.5 days gestation embryo', 'Applications': 'DNA repair studies', 'Storage Conditions': 'liquid nitrogen vapor phase'}\n",
      "🖼 Parsing /en/Products/Collections/Cell_Biology_Collections/Cell_Lines/Animal/Alphanumeric/CRL-1666.aspx\n",
      "{'ATCC code': '13762 MAT B III  (ATCC® CRL-1666™)', 'Organism': 'Rattus norvegicus, rat', 'Tissue': 'mammary gland', 'Product Format': 'frozen', 'Morphology': 'epithelial', 'Culture Properties': 'suspension or loosely adherent', 'Biosafety Level': '1 \\r\\n\\nBiosafety classification is based on U.S. Public Health Service Guidelines, it is the responsibility of the customer to ensure that their facilities comply with biosafety regulations for their own country.', 'Disease': 'adenocarcinoma', 'Strain': 'Fischer 344 (F344)', 'Storage Conditions': 'liquid nitrogen vapor phase'}\n",
      "🖼 Parsing /en/Products/Collections/Cell_Biology_Collections/Cell_Lines/Animal/Alphanumeric/CRL-3422.aspx\n",
      "{'ATCC code': '13F3 (ATCC® CRL-3422™)', 'Organism': 'Cricetulus migratorius, hamster, Armenian', 'Tissue': 'spleen', 'Product Format': 'frozen 1.0 mL', 'Morphology': 'rounded', 'Culture Properties': 'mixed', 'Biosafety Level': '1 \\r\\n\\nBiosafety classification is based on U.S. Public Health Service Guidelines, it is the responsibility of the customer to ensure that their facilities comply with biosafety regulations for their own country.', 'Applications': 'Model for a novel and structurally distinct Ig superfamily inhibitory ligand (VISTA), designated as V-domain Ig suppressor of T cell activation, a immunoregulatory molecule, that may play a role in the development of autoimmunity and immune surveillance in cancer.'}\n",
      "🖼 Parsing /en/Products/Collections/Cell_Biology_Collections/Cell_Lines/Animal/Alphanumeric/CRL-2649.aspx\n",
      "{'ATCC code': '142-24E5 [1/24E05, 142-24E05, SCRF 35.1] (ATCC® CRL-2649™)', 'Organism': 'Mus musculus (B cell); Mus musculus (myeloma), mouse (B cell); mouse (myeloma)', 'Cell Type': 'hybridoma: B lymphocyte', 'Product Format': 'frozen', 'Morphology': 'lymphoblast', 'Culture Properties': 'suspension but many cells attach', 'Biosafety Level': '1 \\r\\n\\nBiosafety classification is based on U.S. Public Health Service Guidelines, it is the responsibility of the customer to ensure that their facilities comply with biosafety regulations for their own country.', 'Applications': 'Animals were immunized with a synthetic polypeptide with the sequence YREQIKRVKDSDDVPMVLVGNKC corresponding to peptides 96 to 118 of the predicted p21 sequence of the ras (Ha-ras) oncogene, formerly v-ras (H).The antibody reacts in indirect fluorescence assays of frozen sections and peroxidase stain paraffin embedded cell lines or tissues.'}\n",
      "🖼 Parsing /en/Products/Collections/Cell_Biology_Collections/Cell_Lines/Animal/Alphanumeric/CRL-2650.aspx\n",
      "{'ATCC code': '146-03E04 [146-3E4] (ATCC® CRL-2650™)', 'Organism': 'Mus musculus (B cell); Mus musculus (myeloma), mouse (B cell); mouse (myeloma)', 'Cell Type': 'hybridoma: B lymphocyte', 'Product Format': 'frozen', 'Morphology': 'lymphoblast', 'Culture Properties': 'suspension, but many cells attach', 'Biosafety Level': '1 \\r\\n\\nBiosafety classification is based on U.S. Public Health Service Guidelines, it is the responsibility of the customer to ensure that their facilities comply with biosafety regulations for their own country.', 'Applications': 'Animals were immunized with a synthetic polypeptide with the sequence YTLVREIRQHKLRKLNPPDESGPGC corresponding to peptides 157 to 181 of the H-ras oncogene.The antibody reacts with the synthetic H-ras oncogene peptide.It reacts with the Harvey (Ha-ras) p21 protein but not the Kirsten (Ki-ras) p21 protein.'}\n"
     ]
    },
    {
     "data": {
      "text/plain": [
       "[{'ATCC code': '+/+ MGT  (ATCC® CRL-6468™)',\n",
       "  'Organism': 'Mus musculus, mouse',\n",
       "  'Tissue': 'mammary gland',\n",
       "  'Product Format': 'frozen',\n",
       "  'Culture Properties': 'adherent',\n",
       "  'Biosafety Level': '1 \\r\\n\\nBiosafety classification is based on U.S. Public Health Service Guidelines, it is the responsibility of the customer to ensure that their facilities comply with biosafety regulations for their own country.',\n",
       "  'Age': 'adult',\n",
       "  'Gender': 'female',\n",
       "  'Strain': 'HRS/J'},\n",
       " {'ATCC code': '+/+ SCT  (ATCC® CRL-6469™)',\n",
       "  'Organism': 'Mus musculus, mouse',\n",
       "  'Tissue': 'connective and soft tissue',\n",
       "  'Product Format': 'frozen',\n",
       "  'Culture Properties': 'adherent',\n",
       "  'Biosafety Level': '1 \\r\\n\\nBiosafety classification is based on U.S. Public Health Service Guidelines, it is the responsibility of the customer to ensure that their facilities comply with biosafety regulations for their own country.',\n",
       "  'Disease': 'cancer',\n",
       "  'Age': 'newborn',\n",
       "  'Strain': 'HRS/J',\n",
       "  'Applications': 'This cell line is neither produced nor fully characterized by ATCC. We do not guarantee that it will maintain a specific morphology, purity, or any other property upon passage.'},\n",
       " {'ATCC code': '11P0-1  (ATCC® CRL-2037™)',\n",
       "  'Organism': 'Mus musculus, mouse',\n",
       "  'Cell Type': 'mast cell; Abelson murine leukemia virus transformed',\n",
       "  'Product Format': 'frozen',\n",
       "  'Morphology': 'mast cell',\n",
       "  'Culture Properties': 'suspension',\n",
       "  'Biosafety Level': '2 \\r\\n\\nBiosafety classification is based on U.S. Public Health Service Guidelines, it is the responsibility of the customer to ensure that their facilities comply with biosafety regulations for their own country.',\n",
       "  'Age': '11 days gestation',\n",
       "  'Applications': 'The 11P0-1 cell line was established by transformation of placental cells from an 11 day mouse embryo with A-MuLV.',\n",
       "  'Storage Conditions': 'liquid nitrogen vapor phase'},\n",
       " {'ATCC code': '121-19B10  (ATCC® CRL-2652™)',\n",
       "  'Organism': 'Mus musculus (B cell); Mus musculus (myeloma), mouse (B cell); mouse (myeloma)',\n",
       "  'Tissue': 'spleen',\n",
       "  'Cell Type': 'hybridoma:lymphoblast B lymphocyte',\n",
       "  'Product Format': 'frozen',\n",
       "  'Morphology': 'lymphoblast',\n",
       "  'Culture Properties': 'suspension',\n",
       "  'Biosafety Level': '1 \\r\\n\\nBiosafety classification is based on U.S. Public Health Service Guidelines, it is the responsibility of the customer to ensure that their facilities comply with biosafety regulations for their own country.',\n",
       "  'Gender': 'female',\n",
       "  'Strain': '129GIX+',\n",
       "  'Storage Conditions': 'liquid nitrogen vapor phase'},\n",
       " {'ATCC code': '127TAg  (ATCC® CRL-2817™)',\n",
       "  'Organism': 'Mus musculus, mouse',\n",
       "  'Tissue': 'embryo',\n",
       "  'Cell Type': 'fibroblast immortalized with SV40 large T antigenSV40 large T antigen transfected',\n",
       "  'Product Format': 'frozen',\n",
       "  'Morphology': 'fibroblast',\n",
       "  'Culture Properties': 'adherent',\n",
       "  'Biosafety Level': '2 cells containing SV40 viral DNA sequences\\r\\n\\nBiosafety classification is based on U.S. Public Health Service Guidelines, it is the responsibility of the customer to ensure that their facilities comply with biosafety regulations for their own country.',\n",
       "  'Age': '14.5 days gestation embryo',\n",
       "  'Applications': 'DNA repair studies',\n",
       "  'Storage Conditions': 'liquid nitrogen vapor phase'},\n",
       " {'ATCC code': '13762 MAT B III  (ATCC® CRL-1666™)',\n",
       "  'Organism': 'Rattus norvegicus, rat',\n",
       "  'Tissue': 'mammary gland',\n",
       "  'Product Format': 'frozen',\n",
       "  'Morphology': 'epithelial',\n",
       "  'Culture Properties': 'suspension or loosely adherent',\n",
       "  'Biosafety Level': '1 \\r\\n\\nBiosafety classification is based on U.S. Public Health Service Guidelines, it is the responsibility of the customer to ensure that their facilities comply with biosafety regulations for their own country.',\n",
       "  'Disease': 'adenocarcinoma',\n",
       "  'Strain': 'Fischer 344 (F344)',\n",
       "  'Storage Conditions': 'liquid nitrogen vapor phase'},\n",
       " {'ATCC code': '13F3 (ATCC® CRL-3422™)',\n",
       "  'Organism': 'Cricetulus migratorius, hamster, Armenian',\n",
       "  'Tissue': 'spleen',\n",
       "  'Product Format': 'frozen 1.0 mL',\n",
       "  'Morphology': 'rounded',\n",
       "  'Culture Properties': 'mixed',\n",
       "  'Biosafety Level': '1 \\r\\n\\nBiosafety classification is based on U.S. Public Health Service Guidelines, it is the responsibility of the customer to ensure that their facilities comply with biosafety regulations for their own country.',\n",
       "  'Applications': 'Model for a novel and structurally distinct Ig superfamily inhibitory ligand (VISTA), designated as V-domain Ig suppressor of T cell activation, a immunoregulatory molecule, that may play a role in the development of autoimmunity and immune surveillance in cancer.'},\n",
       " {'ATCC code': '142-24E5 [1/24E05, 142-24E05, SCRF 35.1] (ATCC® CRL-2649™)',\n",
       "  'Organism': 'Mus musculus (B cell); Mus musculus (myeloma), mouse (B cell); mouse (myeloma)',\n",
       "  'Cell Type': 'hybridoma: B lymphocyte',\n",
       "  'Product Format': 'frozen',\n",
       "  'Morphology': 'lymphoblast',\n",
       "  'Culture Properties': 'suspension but many cells attach',\n",
       "  'Biosafety Level': '1 \\r\\n\\nBiosafety classification is based on U.S. Public Health Service Guidelines, it is the responsibility of the customer to ensure that their facilities comply with biosafety regulations for their own country.',\n",
       "  'Applications': 'Animals were immunized with a synthetic polypeptide with the sequence YREQIKRVKDSDDVPMVLVGNKC corresponding to peptides 96 to 118 of the predicted p21 sequence of the ras (Ha-ras) oncogene, formerly v-ras (H).The antibody reacts in indirect fluorescence assays of frozen sections and peroxidase stain paraffin embedded cell lines or tissues.'},\n",
       " {'ATCC code': '146-03E04 [146-3E4] (ATCC® CRL-2650™)',\n",
       "  'Organism': 'Mus musculus (B cell); Mus musculus (myeloma), mouse (B cell); mouse (myeloma)',\n",
       "  'Cell Type': 'hybridoma: B lymphocyte',\n",
       "  'Product Format': 'frozen',\n",
       "  'Morphology': 'lymphoblast',\n",
       "  'Culture Properties': 'suspension, but many cells attach',\n",
       "  'Biosafety Level': '1 \\r\\n\\nBiosafety classification is based on U.S. Public Health Service Guidelines, it is the responsibility of the customer to ensure that their facilities comply with biosafety regulations for their own country.',\n",
       "  'Applications': 'Animals were immunized with a synthetic polypeptide with the sequence YTLVREIRQHKLRKLNPPDESGPGC corresponding to peptides 157 to 181 of the H-ras oncogene.The antibody reacts with the synthetic H-ras oncogene peptide.It reacts with the Harvey (Ha-ras) p21 protein but not the Kirsten (Ki-ras) p21 protein.'}]"
      ]
     },
     "execution_count": 12,
     "metadata": {},
     "output_type": "execute_result"
    }
   ],
   "source": [
    "scrape_page(links)"
   ]
  },
  {
   "cell_type": "code",
   "execution_count": 13,
   "metadata": {},
   "outputs": [
    {
     "name": "stdout",
     "output_type": "stream",
     "text": [
      "Scraping overview page http://www.lgcstandards-atcc.org/Products/Collections/Cell_Biology_Collections/Cell_Lines/Animal/Alphanumeric/\n",
      "🖼 Parsing /en/Products/Collections/Cell_Biology_Collections/Cell_Lines/Animal/Alphanumeric/CRL-6468.aspx\n",
      "{'ATCC code': '+/+ MGT  (ATCC® CRL-6468™)', 'Organism': 'Mus musculus, mouse', 'Tissue': 'mammary gland', 'Product Format': 'frozen', 'Culture Properties': 'adherent', 'Biosafety Level': '1 \\r\\n\\nBiosafety classification is based on U.S. Public Health Service Guidelines, it is the responsibility of the customer to ensure that their facilities comply with biosafety regulations for their own country.', 'Age': 'adult', 'Gender': 'female', 'Strain': 'HRS/J'}\n",
      "🖼 Parsing /en/Products/Collections/Cell_Biology_Collections/Cell_Lines/Animal/Alphanumeric/CRL-6469.aspx\n",
      "{'ATCC code': '+/+ SCT  (ATCC® CRL-6469™)', 'Organism': 'Mus musculus, mouse', 'Tissue': 'connective and soft tissue', 'Product Format': 'frozen', 'Culture Properties': 'adherent', 'Biosafety Level': '1 \\r\\n\\nBiosafety classification is based on U.S. Public Health Service Guidelines, it is the responsibility of the customer to ensure that their facilities comply with biosafety regulations for their own country.', 'Disease': 'cancer', 'Age': 'newborn', 'Strain': 'HRS/J', 'Applications': 'This cell line is neither produced nor fully characterized by ATCC. We do not guarantee that it will maintain a specific morphology, purity, or any other property upon passage.'}\n",
      "🖼 Parsing /en/Products/Collections/Cell_Biology_Collections/Cell_Lines/Animal/Alphanumeric/CRL-2037.aspx\n",
      "{'ATCC code': '11P0-1  (ATCC® CRL-2037™)', 'Organism': 'Mus musculus, mouse', 'Cell Type': 'mast cell; Abelson murine leukemia virus transformed', 'Product Format': 'frozen', 'Morphology': 'mast cell', 'Culture Properties': 'suspension', 'Biosafety Level': '2 \\r\\n\\nBiosafety classification is based on U.S. Public Health Service Guidelines, it is the responsibility of the customer to ensure that their facilities comply with biosafety regulations for their own country.', 'Age': '11 days gestation', 'Applications': 'The 11P0-1 cell line was established by transformation of placental cells from an 11 day mouse embryo with A-MuLV.', 'Storage Conditions': 'liquid nitrogen vapor phase'}\n",
      "🖼 Parsing /en/Products/Collections/Cell_Biology_Collections/Cell_Lines/Animal/Alphanumeric/CRL-2652.aspx\n",
      "{'ATCC code': '121-19B10  (ATCC® CRL-2652™)', 'Organism': 'Mus musculus (B cell); Mus musculus (myeloma), mouse (B cell); mouse (myeloma)', 'Tissue': 'spleen', 'Cell Type': 'hybridoma:lymphoblast B lymphocyte', 'Product Format': 'frozen', 'Morphology': 'lymphoblast', 'Culture Properties': 'suspension', 'Biosafety Level': '1 \\r\\n\\nBiosafety classification is based on U.S. Public Health Service Guidelines, it is the responsibility of the customer to ensure that their facilities comply with biosafety regulations for their own country.', 'Gender': 'female', 'Strain': '129GIX+', 'Storage Conditions': 'liquid nitrogen vapor phase'}\n",
      "🖼 Parsing /en/Products/Collections/Cell_Biology_Collections/Cell_Lines/Animal/Alphanumeric/CRL-2817.aspx\n",
      "{'ATCC code': '127TAg  (ATCC® CRL-2817™)', 'Organism': 'Mus musculus, mouse', 'Tissue': 'embryo', 'Cell Type': 'fibroblast immortalized with SV40 large T antigenSV40 large T antigen transfected', 'Product Format': 'frozen', 'Morphology': 'fibroblast', 'Culture Properties': 'adherent', 'Biosafety Level': '2 cells containing SV40 viral DNA sequences\\r\\n\\nBiosafety classification is based on U.S. Public Health Service Guidelines, it is the responsibility of the customer to ensure that their facilities comply with biosafety regulations for their own country.', 'Age': '14.5 days gestation embryo', 'Applications': 'DNA repair studies', 'Storage Conditions': 'liquid nitrogen vapor phase'}\n",
      "🖼 Parsing /en/Products/Collections/Cell_Biology_Collections/Cell_Lines/Animal/Alphanumeric/CRL-1666.aspx\n",
      "{'ATCC code': '13762 MAT B III  (ATCC® CRL-1666™)', 'Organism': 'Rattus norvegicus, rat', 'Tissue': 'mammary gland', 'Product Format': 'frozen', 'Morphology': 'epithelial', 'Culture Properties': 'suspension or loosely adherent', 'Biosafety Level': '1 \\r\\n\\nBiosafety classification is based on U.S. Public Health Service Guidelines, it is the responsibility of the customer to ensure that their facilities comply with biosafety regulations for their own country.', 'Disease': 'adenocarcinoma', 'Strain': 'Fischer 344 (F344)', 'Storage Conditions': 'liquid nitrogen vapor phase'}\n",
      "🖼 Parsing /en/Products/Collections/Cell_Biology_Collections/Cell_Lines/Animal/Alphanumeric/CRL-3422.aspx\n",
      "{'ATCC code': '13F3 (ATCC® CRL-3422™)', 'Organism': 'Cricetulus migratorius, hamster, Armenian', 'Tissue': 'spleen', 'Product Format': 'frozen 1.0 mL', 'Morphology': 'rounded', 'Culture Properties': 'mixed', 'Biosafety Level': '1 \\r\\n\\nBiosafety classification is based on U.S. Public Health Service Guidelines, it is the responsibility of the customer to ensure that their facilities comply with biosafety regulations for their own country.', 'Applications': 'Model for a novel and structurally distinct Ig superfamily inhibitory ligand (VISTA), designated as V-domain Ig suppressor of T cell activation, a immunoregulatory molecule, that may play a role in the development of autoimmunity and immune surveillance in cancer.'}\n",
      "🖼 Parsing /en/Products/Collections/Cell_Biology_Collections/Cell_Lines/Animal/Alphanumeric/CRL-2649.aspx\n",
      "{'ATCC code': '142-24E5 [1/24E05, 142-24E05, SCRF 35.1] (ATCC® CRL-2649™)', 'Organism': 'Mus musculus (B cell); Mus musculus (myeloma), mouse (B cell); mouse (myeloma)', 'Cell Type': 'hybridoma: B lymphocyte', 'Product Format': 'frozen', 'Morphology': 'lymphoblast', 'Culture Properties': 'suspension but many cells attach', 'Biosafety Level': '1 \\r\\n\\nBiosafety classification is based on U.S. Public Health Service Guidelines, it is the responsibility of the customer to ensure that their facilities comply with biosafety regulations for their own country.', 'Applications': 'Animals were immunized with a synthetic polypeptide with the sequence YREQIKRVKDSDDVPMVLVGNKC corresponding to peptides 96 to 118 of the predicted p21 sequence of the ras (Ha-ras) oncogene, formerly v-ras (H).The antibody reacts in indirect fluorescence assays of frozen sections and peroxidase stain paraffin embedded cell lines or tissues.'}\n",
      "🖼 Parsing /en/Products/Collections/Cell_Biology_Collections/Cell_Lines/Animal/Alphanumeric/CRL-2650.aspx\n",
      "{'ATCC code': '146-03E04 [146-3E4] (ATCC® CRL-2650™)', 'Organism': 'Mus musculus (B cell); Mus musculus (myeloma), mouse (B cell); mouse (myeloma)', 'Cell Type': 'hybridoma: B lymphocyte', 'Product Format': 'frozen', 'Morphology': 'lymphoblast', 'Culture Properties': 'suspension, but many cells attach', 'Biosafety Level': '1 \\r\\n\\nBiosafety classification is based on U.S. Public Health Service Guidelines, it is the responsibility of the customer to ensure that their facilities comply with biosafety regulations for their own country.', 'Applications': 'Animals were immunized with a synthetic polypeptide with the sequence YTLVREIRQHKLRKLNPPDESGPGC corresponding to peptides 157 to 181 of the H-ras oncogene.The antibody reacts with the synthetic H-ras oncogene peptide.It reacts with the Harvey (Ha-ras) p21 protein but not the Kirsten (Ki-ras) p21 protein.'}\n"
     ]
    }
   ],
   "source": [
    "cell_lines = scrape_page(links)"
   ]
  },
  {
   "cell_type": "code",
   "execution_count": 14,
   "metadata": {},
   "outputs": [],
   "source": [
    "# I forgot to import pandas before. The results are saved into a DataFrame object and then transformed into a CSV file\n",
    "import pandas as pd\n",
    "df = pd.DataFrame(cell_lines)\n",
    "df.to_csv(\"ATCC_cell_lines.csv\")"
   ]
  },
  {
   "cell_type": "code",
   "execution_count": null,
   "metadata": {},
   "outputs": [],
   "source": []
  }
 ],
 "metadata": {
  "kernelspec": {
   "display_name": "Python 3",
   "language": "python",
   "name": "python3"
  },
  "language_info": {
   "codemirror_mode": {
    "name": "ipython",
    "version": 3
   },
   "file_extension": ".py",
   "mimetype": "text/x-python",
   "name": "python",
   "nbconvert_exporter": "python",
   "pygments_lexer": "ipython3",
   "version": "3.7.0"
  }
 },
 "nbformat": 4,
 "nbformat_minor": 2
}
